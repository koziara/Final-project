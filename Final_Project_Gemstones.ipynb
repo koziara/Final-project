{
 "cells": [
  {
   "cell_type": "markdown",
   "id": "802d98bc475169ad",
   "metadata": {},
   "source": [
    "# Setup"
   ]
  },
  {
   "cell_type": "code",
   "execution_count": 6,
   "id": "e93dd183ce7df5cd",
   "metadata": {
    "ExecuteTime": {
     "end_time": "2024-04-11T10:26:38.171088Z",
     "start_time": "2024-04-11T10:26:23.262578Z"
    }
   },
   "outputs": [
    {
     "name": "stdout",
     "output_type": "stream",
     "text": [
      "116\n"
     ]
    }
   ],
   "source": [
    "import os\n",
    "import csv\n",
    "from PIL import Image\n",
    "import pandas as pd\n",
    "import numpy as np\n",
    "\n",
    "# Set the target directory\n",
    "target_dir = '.\\\\'\n",
    "\n",
    "# Create a list to store the vectorized images\n",
    "vectorized_images = []\n",
    "labels = []\n",
    "\n",
    "# Loop through each sub-directory\n",
    "for subdir, dirs, files in os.walk(target_dir):\n",
    "    for file in files:\n",
    "        # Check if the file is an image\n",
    "        if file.endswith('.jpg'):\n",
    "            # Construct the full file path\n",
    "            file_path = os.path.join(subdir, file)\n",
    "            \n",
    "            # Open the image\n",
    "            image = Image.open(file_path)\n",
    "            \n",
    "            # Remove the white background\n",
    "            image = image.convert(\"RGBA\")\n",
    "            data = np.array(image)\n",
    "            red, green, blue, alpha = data.T\n",
    "            white_areas = (red > 200) & (blue > 200) & (green > 200)\n",
    "            data[..., -1][white_areas.T] = 0\n",
    "            image = Image.fromarray(data)\n",
    "            \n",
    "            # Crop the image to fit the subject\n",
    "            bbox = image.getbbox()\n",
    "            image = image.crop(bbox)\n",
    "            \n",
    "            # Resize the image to 128x128 pixels\n",
    "            image = image.resize((128, 128))\n",
    "            \n",
    "            # Change the transparent pixels to white\n",
    "            new_image = Image.new(\"RGBA\", image.size, \"WHITE\") # Create a white rgba background\n",
    "            new_image.paste(image, (0, 0), image)              # Paste the image on the background. Go to the links given below for details.\n",
    "            image = new_image.convert('RGB')\n",
    "            \n",
    "            # Vectorize the image\n",
    "            image_vector = np.array(image).flatten()\n",
    "            \n",
    "            # Add the vectorized image to the list\n",
    "            vectorized_images.append(image_vector)\n",
    "            labels.append(subdir.split(\"\\\\\")[-1])\n",
    "\n",
    "            # Save the resized image as PNG\n",
    "            new_file_path = os.path.join(subdir, f'{file.split(\".\")[0]}.png')\n",
    "            image.save(new_file_path)\n",
    "            \n",
    "            # Close the image\n",
    "            image.close()\n",
    "            \n",
    "            print(f'Resized {file} to 128x128 and saved as {new_file_path}')\n",
    "\n",
    "# Convert the image data and labels to DataFrame\n",
    "df = pd.DataFrame(vectorized_images)\n",
    "df['label'] = labels\n",
    "\n",
    "# Save DataFrame to CSV\n",
    "df.to_csv('image_data.csv', index=False)"
   ]
  }
 ],
 "metadata": {
  "kernelspec": {
   "display_name": "Python 3",
   "language": "python",
   "name": "python3"
  },
  "language_info": {
   "codemirror_mode": {
    "name": "ipython",
    "version": 3
   },
   "file_extension": ".py",
   "mimetype": "text/x-python",
   "name": "python",
   "nbconvert_exporter": "python",
   "pygments_lexer": "ipython3",
   "version": "3.11.5"
  }
 },
 "nbformat": 4,
 "nbformat_minor": 5
}
